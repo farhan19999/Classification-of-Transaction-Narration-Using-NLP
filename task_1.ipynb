{
  "nbformat": 4,
  "nbformat_minor": 0,
  "metadata": {
    "colab": {
      "provenance": [],
      "gpuType": "T4",
      "mount_file_id": "16cDfYZgn21LNAVICvyXRtcAVmexQTqos",
      "authorship_tag": "ABX9TyMe3hk9nARH9myzIicU0cCw",
      "include_colab_link": true
    },
    "kernelspec": {
      "name": "python3",
      "display_name": "Python 3"
    },
    "language_info": {
      "name": "python"
    },
    "accelerator": "GPU",
    "gpuClass": "standard"
  },
  "cells": [
    {
      "cell_type": "markdown",
      "metadata": {
        "id": "view-in-github",
        "colab_type": "text"
      },
      "source": [
        "<a href=\"https://colab.research.google.com/github/farhan19999/Classification-of-Transaction-Narration-Using-NLP/blob/master/task_1.ipynb\" target=\"_parent\"><img src=\"https://colab.research.google.com/assets/colab-badge.svg\" alt=\"Open In Colab\"/></a>"
      ]
    },
    {
      "cell_type": "code",
      "source": [
        "from google.colab import drive\n",
        "drive.mount('/content/gdrive')"
      ],
      "metadata": {
        "colab": {
          "base_uri": "https://localhost:8080/"
        },
        "id": "NdOcWsy1Ia89",
        "outputId": "b4531faf-cd13-4df2-8226-8a6ff23b21e0"
      },
      "execution_count": null,
      "outputs": [
        {
          "output_type": "stream",
          "name": "stdout",
          "text": [
            "Mounted at /content/gdrive\n"
          ]
        }
      ]
    },
    {
      "cell_type": "code",
      "source": [
        "!unzip -qq '/content/gdrive/MyDrive/VIS-DATA-SET/Transaction_Naration_Data_Set.zip'\n",
        "!unzip -qq '/content/gdrive/MyDrive/VIS-DATA-SET/Test.zip'"
      ],
      "metadata": {
        "id": "7TeP8K0jJxcF"
      },
      "execution_count": null,
      "outputs": []
    },
    {
      "cell_type": "code",
      "execution_count": null,
      "metadata": {
        "colab": {
          "base_uri": "https://localhost:8080/"
        },
        "id": "Lbubiet2Ezde",
        "outputId": "77326115-19f3-41df-d7e4-c15dcaa686ad"
      },
      "outputs": [
        {
          "output_type": "stream",
          "name": "stdout",
          "text": [
            "   Unnamed: 0    AC_ID    AMOUNT   DOC_DATE  \\\n",
            "0           0  3644877  342800.0  01-NOV-22   \n",
            "1           1  1175256  342800.0  01-NOV-22   \n",
            "2           2  2298226    1500.0  01-NOV-22   \n",
            "3           3  4066427    1500.0  01-NOV-22   \n",
            "4           4  1978564    2550.0  01-NOV-22   \n",
            "\n",
            "                                            NARATION   DR_CR  \n",
            "0                                      Cash Withdraw   Debit  \n",
            "1                     Cash Withdrawal From A/C No.:   Credit  \n",
            "2   Cash withdraw from Micro Merchant point, MM A/C    Debit  \n",
            "3  Credit Against Merchant Cash Withdraw Service ...  Credit  \n",
            "4   Cash withdraw from Micro Merchant point, MM A/C    Debit  \n"
          ]
        }
      ],
      "source": [
        "import pandas as pd\n",
        "import numpy as np\n",
        "import matplotlib.pyplot as plt\n",
        "\n",
        "data = pd.read_csv('./Transaction_Naration_Data_Set.csv')\n",
        "print(data.head())"
      ]
    },
    {
      "cell_type": "code",
      "source": [
        "naration = data[['NARATION']]\n",
        "print(naration.shape[0])\n",
        "print(naration.head())"
      ],
      "metadata": {
        "colab": {
          "base_uri": "https://localhost:8080/"
        },
        "id": "31yikFRsF8tl",
        "outputId": "4d563bb8-ab2c-4ed0-e04a-331fd02157a5"
      },
      "execution_count": null,
      "outputs": [
        {
          "output_type": "stream",
          "name": "stdout",
          "text": [
            "22546758\n",
            "                                            NARATION\n",
            "0                                      Cash Withdraw\n",
            "1                     Cash Withdrawal From A/C No.: \n",
            "2   Cash withdraw from Micro Merchant point, MM A/C \n",
            "3  Credit Against Merchant Cash Withdraw Service ...\n",
            "4   Cash withdraw from Micro Merchant point, MM A/C \n"
          ]
        }
      ]
    },
    {
      "cell_type": "code",
      "source": [
        "naration.loc[:,('NARATION')] = naration.loc[:,('NARATION')].str.lower()\n",
        "naration.loc[:,('NARATION')] = naration.loc[:,('NARATION')].str.replace(r'[^a-z ]+','', regex = True)\n",
        "naration.loc[:,('NARATION')] = naration.loc[:,('NARATION')].str.replace(r'[ ]+',' ', regex = True)\n",
        "print(naration.head())"
      ],
      "metadata": {
        "colab": {
          "base_uri": "https://localhost:8080/"
        },
        "id": "EORlxsTdGR7c",
        "outputId": "f3c7c09a-62d6-405c-fb32-4191425673a3"
      },
      "execution_count": null,
      "outputs": [
        {
          "output_type": "stream",
          "name": "stderr",
          "text": [
            "<ipython-input-6-461bd9e25bea>:1: SettingWithCopyWarning: \n",
            "A value is trying to be set on a copy of a slice from a DataFrame.\n",
            "Try using .loc[row_indexer,col_indexer] = value instead\n",
            "\n",
            "See the caveats in the documentation: https://pandas.pydata.org/pandas-docs/stable/user_guide/indexing.html#returning-a-view-versus-a-copy\n",
            "  naration.loc[:,('NARATION')] = naration.loc[:,('NARATION')].str.lower()\n",
            "<ipython-input-6-461bd9e25bea>:2: SettingWithCopyWarning: \n",
            "A value is trying to be set on a copy of a slice from a DataFrame.\n",
            "Try using .loc[row_indexer,col_indexer] = value instead\n",
            "\n",
            "See the caveats in the documentation: https://pandas.pydata.org/pandas-docs/stable/user_guide/indexing.html#returning-a-view-versus-a-copy\n",
            "  naration.loc[:,('NARATION')] = naration.loc[:,('NARATION')].str.replace(r'[^a-z ]+','', regex = True)\n"
          ]
        },
        {
          "output_type": "stream",
          "name": "stdout",
          "text": [
            "                                            NARATION\n",
            "0                                      cash withdraw\n",
            "1                        cash withdrawal from ac no \n",
            "2     cash withdraw from micro merchant point mm ac \n",
            "3  credit against merchant cash withdraw service ...\n",
            "4     cash withdraw from micro merchant point mm ac \n"
          ]
        },
        {
          "output_type": "stream",
          "name": "stderr",
          "text": [
            "<ipython-input-6-461bd9e25bea>:3: SettingWithCopyWarning: \n",
            "A value is trying to be set on a copy of a slice from a DataFrame.\n",
            "Try using .loc[row_indexer,col_indexer] = value instead\n",
            "\n",
            "See the caveats in the documentation: https://pandas.pydata.org/pandas-docs/stable/user_guide/indexing.html#returning-a-view-versus-a-copy\n",
            "  naration.loc[:,('NARATION')] = naration.loc[:,('NARATION')].str.replace(r'[ ]+',' ', regex = True)\n"
          ]
        }
      ]
    },
    {
      "cell_type": "code",
      "source": [
        "print(naration['NARATION'].describe())\n",
        "print(naration['NARATION'].isnull().sum())"
      ],
      "metadata": {
        "colab": {
          "base_uri": "https://localhost:8080/"
        },
        "id": "NMNnwZunRT83",
        "outputId": "f26c83a9-69fd-4052-8a58-106aeeeeb5b8"
      },
      "execution_count": null,
      "outputs": [
        {
          "output_type": "stream",
          "name": "stdout",
          "text": [
            "count                        22545735\n",
            "unique                         107675\n",
            "top       cash withdrawal from ac no \n",
            "freq                          2359719\n",
            "Name: NARATION, dtype: object\n",
            "1023\n"
          ]
        }
      ]
    },
    {
      "cell_type": "code",
      "source": [
        "#removing duplicate and null\n",
        "naration = naration.drop_duplicates(subset=['NARATION']  ,keep='first')\n",
        "naration = naration.drop(naration[naration['NARATION'] == ' '].index)\n",
        "naration = naration.dropna(axis = 0 , how = 'any')"
      ],
      "metadata": {
        "id": "S9nR_S4fhpBU"
      },
      "execution_count": null,
      "outputs": []
    },
    {
      "cell_type": "code",
      "source": [
        "print(naration['NARATION'].describe())\n",
        "print(naration['NARATION'].isnull().sum())"
      ],
      "metadata": {
        "colab": {
          "base_uri": "https://localhost:8080/"
        },
        "id": "X86NuQQUjPtS",
        "outputId": "13d348c9-72e8-42d5-d608-23d1ba6620f0"
      },
      "execution_count": null,
      "outputs": [
        {
          "output_type": "stream",
          "name": "stdout",
          "text": [
            "count            107674\n",
            "unique           107674\n",
            "top       cash withdraw\n",
            "freq                  1\n",
            "Name: NARATION, dtype: object\n",
            "0\n"
          ]
        }
      ]
    },
    {
      "cell_type": "code",
      "source": [
        "!python -m spacy download en_core_web_lg"
      ],
      "metadata": {
        "colab": {
          "base_uri": "https://localhost:8080/"
        },
        "id": "dTTv54rKDF28",
        "outputId": "15542617-4820-4711-edfc-22bb7ab1426d"
      },
      "execution_count": null,
      "outputs": [
        {
          "output_type": "stream",
          "name": "stdout",
          "text": [
            "2023-05-30 07:13:08.363966: I tensorflow/core/platform/cpu_feature_guard.cc:182] This TensorFlow binary is optimized to use available CPU instructions in performance-critical operations.\n",
            "To enable the following instructions: AVX2 FMA, in other operations, rebuild TensorFlow with the appropriate compiler flags.\n",
            "2023-05-30 07:13:09.339666: W tensorflow/compiler/tf2tensorrt/utils/py_utils.cc:38] TF-TRT Warning: Could not find TensorRT\n",
            "2023-05-30 07:13:11.075640: I tensorflow/compiler/xla/stream_executor/cuda/cuda_gpu_executor.cc:996] successful NUMA node read from SysFS had negative value (-1), but there must be at least one NUMA node, so returning NUMA node zero. See more at https://github.com/torvalds/linux/blob/v6.0/Documentation/ABI/testing/sysfs-bus-pci#L344-L355\n",
            "2023-05-30 07:13:11.076223: I tensorflow/compiler/xla/stream_executor/cuda/cuda_gpu_executor.cc:996] successful NUMA node read from SysFS had negative value (-1), but there must be at least one NUMA node, so returning NUMA node zero. See more at https://github.com/torvalds/linux/blob/v6.0/Documentation/ABI/testing/sysfs-bus-pci#L344-L355\n",
            "2023-05-30 07:13:11.076442: I tensorflow/compiler/xla/stream_executor/cuda/cuda_gpu_executor.cc:996] successful NUMA node read from SysFS had negative value (-1), but there must be at least one NUMA node, so returning NUMA node zero. See more at https://github.com/torvalds/linux/blob/v6.0/Documentation/ABI/testing/sysfs-bus-pci#L344-L355\n",
            "Looking in indexes: https://pypi.org/simple, https://us-python.pkg.dev/colab-wheels/public/simple/\n",
            "Collecting en-core-web-lg==3.5.0\n",
            "  Downloading https://github.com/explosion/spacy-models/releases/download/en_core_web_lg-3.5.0/en_core_web_lg-3.5.0-py3-none-any.whl (587.7 MB)\n",
            "\u001b[2K     \u001b[90m━━━━━━━━━━━━━━━━━━━━━━━━━━━━━━━━━━━━━━━\u001b[0m \u001b[32m587.7/587.7 MB\u001b[0m \u001b[31m2.9 MB/s\u001b[0m eta \u001b[36m0:00:00\u001b[0m\n",
            "\u001b[?25hRequirement already satisfied: spacy<3.6.0,>=3.5.0 in /usr/local/lib/python3.10/dist-packages (from en-core-web-lg==3.5.0) (3.5.2)\n",
            "Requirement already satisfied: spacy-legacy<3.1.0,>=3.0.11 in /usr/local/lib/python3.10/dist-packages (from spacy<3.6.0,>=3.5.0->en-core-web-lg==3.5.0) (3.0.12)\n",
            "Requirement already satisfied: spacy-loggers<2.0.0,>=1.0.0 in /usr/local/lib/python3.10/dist-packages (from spacy<3.6.0,>=3.5.0->en-core-web-lg==3.5.0) (1.0.4)\n",
            "Requirement already satisfied: murmurhash<1.1.0,>=0.28.0 in /usr/local/lib/python3.10/dist-packages (from spacy<3.6.0,>=3.5.0->en-core-web-lg==3.5.0) (1.0.9)\n",
            "Requirement already satisfied: cymem<2.1.0,>=2.0.2 in /usr/local/lib/python3.10/dist-packages (from spacy<3.6.0,>=3.5.0->en-core-web-lg==3.5.0) (2.0.7)\n",
            "Requirement already satisfied: preshed<3.1.0,>=3.0.2 in /usr/local/lib/python3.10/dist-packages (from spacy<3.6.0,>=3.5.0->en-core-web-lg==3.5.0) (3.0.8)\n",
            "Requirement already satisfied: thinc<8.2.0,>=8.1.8 in /usr/local/lib/python3.10/dist-packages (from spacy<3.6.0,>=3.5.0->en-core-web-lg==3.5.0) (8.1.9)\n",
            "Requirement already satisfied: wasabi<1.2.0,>=0.9.1 in /usr/local/lib/python3.10/dist-packages (from spacy<3.6.0,>=3.5.0->en-core-web-lg==3.5.0) (1.1.1)\n",
            "Requirement already satisfied: srsly<3.0.0,>=2.4.3 in /usr/local/lib/python3.10/dist-packages (from spacy<3.6.0,>=3.5.0->en-core-web-lg==3.5.0) (2.4.6)\n",
            "Requirement already satisfied: catalogue<2.1.0,>=2.0.6 in /usr/local/lib/python3.10/dist-packages (from spacy<3.6.0,>=3.5.0->en-core-web-lg==3.5.0) (2.0.8)\n",
            "Requirement already satisfied: typer<0.8.0,>=0.3.0 in /usr/local/lib/python3.10/dist-packages (from spacy<3.6.0,>=3.5.0->en-core-web-lg==3.5.0) (0.7.0)\n",
            "Requirement already satisfied: pathy>=0.10.0 in /usr/local/lib/python3.10/dist-packages (from spacy<3.6.0,>=3.5.0->en-core-web-lg==3.5.0) (0.10.1)\n",
            "Requirement already satisfied: smart-open<7.0.0,>=5.2.1 in /usr/local/lib/python3.10/dist-packages (from spacy<3.6.0,>=3.5.0->en-core-web-lg==3.5.0) (6.3.0)\n",
            "Requirement already satisfied: tqdm<5.0.0,>=4.38.0 in /usr/local/lib/python3.10/dist-packages (from spacy<3.6.0,>=3.5.0->en-core-web-lg==3.5.0) (4.65.0)\n",
            "Requirement already satisfied: numpy>=1.15.0 in /usr/local/lib/python3.10/dist-packages (from spacy<3.6.0,>=3.5.0->en-core-web-lg==3.5.0) (1.22.4)\n",
            "Requirement already satisfied: requests<3.0.0,>=2.13.0 in /usr/local/lib/python3.10/dist-packages (from spacy<3.6.0,>=3.5.0->en-core-web-lg==3.5.0) (2.27.1)\n",
            "Requirement already satisfied: pydantic!=1.8,!=1.8.1,<1.11.0,>=1.7.4 in /usr/local/lib/python3.10/dist-packages (from spacy<3.6.0,>=3.5.0->en-core-web-lg==3.5.0) (1.10.7)\n",
            "Requirement already satisfied: jinja2 in /usr/local/lib/python3.10/dist-packages (from spacy<3.6.0,>=3.5.0->en-core-web-lg==3.5.0) (3.1.2)\n",
            "Requirement already satisfied: setuptools in /usr/local/lib/python3.10/dist-packages (from spacy<3.6.0,>=3.5.0->en-core-web-lg==3.5.0) (67.7.2)\n",
            "Requirement already satisfied: packaging>=20.0 in /usr/local/lib/python3.10/dist-packages (from spacy<3.6.0,>=3.5.0->en-core-web-lg==3.5.0) (23.1)\n",
            "Requirement already satisfied: langcodes<4.0.0,>=3.2.0 in /usr/local/lib/python3.10/dist-packages (from spacy<3.6.0,>=3.5.0->en-core-web-lg==3.5.0) (3.3.0)\n",
            "Requirement already satisfied: typing-extensions>=4.2.0 in /usr/local/lib/python3.10/dist-packages (from pydantic!=1.8,!=1.8.1,<1.11.0,>=1.7.4->spacy<3.6.0,>=3.5.0->en-core-web-lg==3.5.0) (4.5.0)\n",
            "Requirement already satisfied: urllib3<1.27,>=1.21.1 in /usr/local/lib/python3.10/dist-packages (from requests<3.0.0,>=2.13.0->spacy<3.6.0,>=3.5.0->en-core-web-lg==3.5.0) (1.26.15)\n",
            "Requirement already satisfied: certifi>=2017.4.17 in /usr/local/lib/python3.10/dist-packages (from requests<3.0.0,>=2.13.0->spacy<3.6.0,>=3.5.0->en-core-web-lg==3.5.0) (2022.12.7)\n",
            "Requirement already satisfied: charset-normalizer~=2.0.0 in /usr/local/lib/python3.10/dist-packages (from requests<3.0.0,>=2.13.0->spacy<3.6.0,>=3.5.0->en-core-web-lg==3.5.0) (2.0.12)\n",
            "Requirement already satisfied: idna<4,>=2.5 in /usr/local/lib/python3.10/dist-packages (from requests<3.0.0,>=2.13.0->spacy<3.6.0,>=3.5.0->en-core-web-lg==3.5.0) (3.4)\n",
            "Requirement already satisfied: blis<0.8.0,>=0.7.8 in /usr/local/lib/python3.10/dist-packages (from thinc<8.2.0,>=8.1.8->spacy<3.6.0,>=3.5.0->en-core-web-lg==3.5.0) (0.7.9)\n",
            "Requirement already satisfied: confection<1.0.0,>=0.0.1 in /usr/local/lib/python3.10/dist-packages (from thinc<8.2.0,>=8.1.8->spacy<3.6.0,>=3.5.0->en-core-web-lg==3.5.0) (0.0.4)\n",
            "Requirement already satisfied: click<9.0.0,>=7.1.1 in /usr/local/lib/python3.10/dist-packages (from typer<0.8.0,>=0.3.0->spacy<3.6.0,>=3.5.0->en-core-web-lg==3.5.0) (8.1.3)\n",
            "Requirement already satisfied: MarkupSafe>=2.0 in /usr/local/lib/python3.10/dist-packages (from jinja2->spacy<3.6.0,>=3.5.0->en-core-web-lg==3.5.0) (2.1.2)\n",
            "Installing collected packages: en-core-web-lg\n",
            "Successfully installed en-core-web-lg-3.5.0\n",
            "\u001b[38;5;2m✔ Download and installation successful\u001b[0m\n",
            "You can now load the package via spacy.load('en_core_web_lg')\n"
          ]
        }
      ]
    },
    {
      "cell_type": "code",
      "source": [
        "import spacy\n",
        "spacy.prefer_gpu()\n",
        "nlp = spacy.load('en_core_web_lg')\n",
        "tokens = []\n",
        "counter = 0\n",
        "test = naration.loc[:50000]\n",
        "#print(test)\n",
        "total = test.shape[0]\n",
        "\n",
        "for sent in test['NARATION'] :\n",
        "  tokens.append(nlp(str(sent)))\n",
        "  counter+=1\n",
        "  print('\\rcompleted ',str(100*counter/total),'%', end='' )\n",
        "  \n"
      ],
      "metadata": {
        "id": "7ijbL9NNHgAz",
        "colab": {
          "base_uri": "https://localhost:8080/"
        },
        "outputId": "4c91873b-e97e-4ffd-bd36-3122effade70"
      },
      "execution_count": null,
      "outputs": [
        {
          "output_type": "stream",
          "name": "stdout",
          "text": [
            "completed  100.0 %"
          ]
        }
      ]
    },
    {
      "cell_type": "code",
      "source": [
        "print(test.shape)\n",
        "print(tokens[:10])"
      ],
      "metadata": {
        "id": "oQCXjPb6Fie3",
        "colab": {
          "base_uri": "https://localhost:8080/"
        },
        "outputId": "f1fd8a7f-9685-4049-caae-96d3ed56bee1"
      },
      "execution_count": null,
      "outputs": [
        {
          "output_type": "stream",
          "name": "stdout",
          "text": [
            "(396, 1)\n",
            "[cash withdraw, cash withdrawal from ac no , cash withdraw from micro merchant point mm ac , credit against merchant cash withdraw service from ac, cash deposit to ac no , cash deposit, debit for new atm card charge, debit against palli bidyut bill collection , agri agent commission of ac , inter agent cash withdraw]\n"
          ]
        }
      ]
    },
    {
      "cell_type": "code",
      "source": [
        "def word_freq_counter(sentence_list, sort=True, reverse=True) :\n",
        "  words = {}\n",
        "  for sent in sentence_list:\n",
        "    for word in sent:\n",
        "      word = str(word)\n",
        "      if word not in words:\n",
        "        words[word] = 0\n",
        "      words[word]+=1\n",
        "  if sort is True:\n",
        "    words=sorted(words.items(), key=lambda x:x[1], reverse =reverse)\n",
        "  return dict(words)\n",
        "\n",
        "def word_histogram(word_list, no_item=20):\n",
        "  fig, ax = plt.subplots()\n",
        "  y_pos = np.arange(no_item)\n",
        "  words = list(word_list.keys())[:no_item]\n",
        "  freq = list(word_list.values())[:no_item]\n",
        "  ax.barh(y_pos, freq,align = 'center')\n",
        "  ax.set_yticks(y_pos, labels=words)\n",
        "  ax.invert_yaxis()\n",
        "  plt.show()\n",
        "  "
      ],
      "metadata": {
        "id": "nkUQkYF46hQ0"
      },
      "execution_count": null,
      "outputs": []
    },
    {
      "cell_type": "code",
      "source": [
        "freq_list = word_freq_counter(tokens)\n",
        "word_histogram(dict(freq_list))"
      ],
      "metadata": {
        "colab": {
          "base_uri": "https://localhost:8080/",
          "height": 430
        },
        "id": "pr4AbXYg-4TN",
        "outputId": "5e323c76-7bb8-444c-9937-1a28806b45ac"
      },
      "execution_count": null,
      "outputs": [
        {
          "output_type": "display_data",
          "data": {
            "text/plain": [
              "<Figure size 640x480 with 1 Axes>"
            ],
            "image/png": "[encoded data removed]"
          },
          "metadata": {}
        }
      ]
    },
    {
      "cell_type": "code",
      "source": [
        "import re\n",
        "lemmatize_list = []\n",
        "\n",
        "extra_sw = {'ac', 'mm'}\n",
        "\n",
        "nlp.Defaults.stop_words |={'ac', 'mm'}\n",
        "\n",
        "for word in extra_sw:\n",
        "  nlp.vocab[word].is_stop = True\n",
        "\n",
        "\n",
        "for token_list in tokens:\n",
        "  token_str = []\n",
        "  for token in token_list:\n",
        "    ents = [e.text for e in token_list.ents]\n",
        "    if nlp.vocab[token.lemma_].is_stop is True  or token.dep_ == 'prep' or token.lemma_ in ents or token.lemma_ == ' ' :\n",
        "      continue\n",
        "    token_str.append(token.lemma_)\n",
        "  if len(token_str) == 0 :\n",
        "    print(token_list)\n",
        "  else: \n",
        "    lemmatize_list.append(token_str)\n",
        "\n",
        "#tokens = lemmatize_list"
      ],
      "metadata": {
        "id": "4SSExhFXg8JF",
        "colab": {
          "base_uri": "https://localhost:8080/"
        },
        "outputId": "abb27d98-270e-480c-a680-4e519c2b4759"
      },
      "execution_count": null,
      "outputs": [
        {
          "output_type": "stream",
          "name": "stdout",
          "text": [
            "\n",
            "shajib\n",
            "adamdighi\n",
            "barachowna\n",
            "sanchay\n",
            "usuf\n",
            "dhainagar\n",
            "sandpriti\n",
            "remitance \n"
          ]
        }
      ]
    },
    {
      "cell_type": "code",
      "source": [
        "word_histogram(word_freq_counter(lemmatize_list))"
      ],
      "metadata": {
        "colab": {
          "base_uri": "https://localhost:8080/",
          "height": 430
        },
        "id": "HyJ9qM4FiR1T",
        "outputId": "22669043-1177-4bd9-ea27-80d5a8ec6dc2"
      },
      "execution_count": null,
      "outputs": [
        {
          "output_type": "display_data",
          "data": {
            "text/plain": [
              "<Figure size 640x480 with 1 Axes>"
            ],
            "image/png": "[encoded data removed]"
          },
          "metadata": {}
        }
      ]
    },
    {
      "cell_type": "code",
      "source": [
        "list(word_freq_counter(lemmatize_list))"
      ],
      "metadata": {
        "colab": {
          "base_uri": "https://localhost:8080/"
        },
        "id": "QUX-JmUoqf_l",
        "outputId": "3e3b7381-39a2-4be0-a679-66725adb9d7a"
      },
      "execution_count": null,
      "outputs": [
        {
          "output_type": "execute_result",
          "data": {
            "text/plain": [
              "['cash',\n",
              " 'transfer',\n",
              " 'bank',\n",
              " 'fund',\n",
              " 'agent',\n",
              " 'deposit',\n",
              " 'smart',\n",
              " 'app',\n",
              " 'cap',\n",
              " 'branch',\n",
              " 'ltd',\n",
              " 'transaction',\n",
              " 'regular',\n",
              " 'eftn',\n",
              " 'withdrawal',\n",
              " 'credit',\n",
              " 'npsb',\n",
              " 'cheque',\n",
              " 'debit',\n",
              " 'withdraw',\n",
              " 'inter',\n",
              " 'roll',\n",
              " 'fr',\n",
              " 'ba',\n",
              " 'payment',\n",
              " 'bazar',\n",
              " 'pay',\n",
              " 'collection',\n",
              " 'remittance',\n",
              " 'remit',\n",
              " 'md',\n",
              " 'bill',\n",
              " 'islami',\n",
              " 'balance',\n",
              " 'card',\n",
              " 'commission',\n",
              " 'dps',\n",
              " 'sonali',\n",
              " 'trf',\n",
              " 'hu',\n",
              " 'salary',\n",
              " 'banking',\n",
              " 'akter',\n",
              " 'bu',\n",
              " 'loan',\n",
              " 'installment',\n",
              " 'service',\n",
              " 'fee',\n",
              " 'agrani',\n",
              " 'october',\n",
              " 'purpose',\n",
              " 'road',\n",
              " 'profit',\n",
              " 'month',\n",
              " 'merchant',\n",
              " 'charge',\n",
              " 'palli',\n",
              " 'company',\n",
              " 'account',\n",
              " 'program',\n",
              " 'sci',\n",
              " 'self',\n",
              " 'settlement',\n",
              " 'asia',\n",
              " 'dutchbangla',\n",
              " 'bangldesh',\n",
              " 'islam',\n",
              " 'social',\n",
              " 'net',\n",
              " 'project',\n",
              " 'vat',\n",
              " 'sme',\n",
              " 'request',\n",
              " 'oct',\n",
              " 'nps',\n",
              " 'ad',\n",
              " 'mohila',\n",
              " 'unnaon',\n",
              " 'dol',\n",
              " 'alam',\n",
              " 'allowance',\n",
              " 'tk',\n",
              " 'commercial',\n",
              " 'refill',\n",
              " 'premature',\n",
              " 'encash',\n",
              " 'ward',\n",
              " 'rent',\n",
              " 'pubali',\n",
              " 'd',\n",
              " 'c',\n",
              " 'sumon',\n",
              " 'personal',\n",
              " 'hajar',\n",
              " 'micro',\n",
              " 'point',\n",
              " 'agri',\n",
              " 'safety',\n",
              " 'cib',\n",
              " 'marchant',\n",
              " 'conventional',\n",
              " 'ific',\n",
              " 'centre',\n",
              " 'women',\n",
              " 'affair',\n",
              " 'rakib',\n",
              " 'hossain',\n",
              " 'office',\n",
              " 'pragati',\n",
              " 'covid',\n",
              " 'special',\n",
              " 'alarafah',\n",
              " 'united',\n",
              " 'purchase',\n",
              " 'send',\n",
              " 'nuralam',\n",
              " 'sheikh',\n",
              " 'station',\n",
              " 'b',\n",
              " 'abdul',\n",
              " 'outlet',\n",
              " 'jahangir',\n",
              " 'form',\n",
              " 'adjust',\n",
              " 'city',\n",
              " 'rupali',\n",
              " 'family',\n",
              " 'baunia',\n",
              " 'moytha',\n",
              " 'rant',\n",
              " 'dilkusha',\n",
              " 'customer',\n",
              " 'parvez',\n",
              " 'sallary',\n",
              " 'takeover',\n",
              " 'uddin',\n",
              " 'doc',\n",
              " 'nid',\n",
              " 'return',\n",
              " 'moddhopara',\n",
              " 'money',\n",
              " 'br',\n",
              " 'fvg',\n",
              " 'school',\n",
              " 'borhanuddin',\n",
              " 'subbranch',\n",
              " 'mdeyamin',\n",
              " 'hasansecurity',\n",
              " 'zianagar',\n",
              " 'outletsalary',\n",
              " 'new',\n",
              " 'atm',\n",
              " 'bidyut',\n",
              " 'metlife',\n",
              " 'alico',\n",
              " 'notf',\n",
              " 'tf',\n",
              " 'bkash',\n",
              " 'wallet',\n",
              " 'passport',\n",
              " 'achallan',\n",
              " 'riacontinental',\n",
              " 'desco',\n",
              " 'wasa',\n",
              " 'jurain',\n",
              " 'mobile',\n",
              " 'recharge',\n",
              " 'ft',\n",
              " 'frm',\n",
              " 'rtgs',\n",
              " 'current',\n",
              " 'kaspiya',\n",
              " 'maher',\n",
              " 'bonolata',\n",
              " 'consortium',\n",
              " 'bhushir',\n",
              " 'bandar',\n",
              " 'incommingnps',\n",
              " 'ib',\n",
              " 'najma',\n",
              " 'utpal',\n",
              " 'sl',\n",
              " 'depositsalma',\n",
              " 'bamundi',\n",
              " 'stump',\n",
              " 'nur',\n",
              " 'statement',\n",
              " 'lagbe',\n",
              " 'toulkai',\n",
              " 'kazipara',\n",
              " 'nonec',\n",
              " 'vip',\n",
              " 'link',\n",
              " 'nesco',\n",
              " 'islampur',\n",
              " 'incommingdbbl',\n",
              " 'asab',\n",
              " 'ria',\n",
              " 'foreign',\n",
              " 'principal',\n",
              " 'amt',\n",
              " 'nov',\n",
              " 'kaliganj',\n",
              " 'business',\n",
              " 'shakil',\n",
              " 'taslima',\n",
              " 'khadiza',\n",
              " 'abu',\n",
              " 'kalam',\n",
              " 'julyaug',\n",
              " 'commition',\n",
              " 'merchantsms',\n",
              " 'father',\n",
              " 'dhaka',\n",
              " 'cda',\n",
              " 'avenue',\n",
              " 'ashulia',\n",
              " 'uttar',\n",
              " 'paikpara',\n",
              " 'exim',\n",
              " 'choumohani',\n",
              " 'bgdcl',\n",
              " 'ring',\n",
              " 'tds',\n",
              " 'commision',\n",
              " 'cdc',\n",
              " 'kaptai',\n",
              " 'khadija',\n",
              " 'beauty',\n",
              " 'depositinterest',\n",
              " 'interest',\n",
              " 'depositmazaharul',\n",
              " 'rul',\n",
              " 'saiful',\n",
              " 'ma',\n",
              " 'abdur',\n",
              " 'rashid',\n",
              " 'hospital',\n",
              " 'godnail',\n",
              " 'karatia',\n",
              " 'utility',\n",
              " 'ekpay',\n",
              " 'biller',\n",
              " 'esrat',\n",
              " 'jahan',\n",
              " 'shazia',\n",
              " 'afrin',\n",
              " 'rollhu',\n",
              " 'abdullah',\n",
              " 'bin',\n",
              " 'fahan',\n",
              " 'rof',\n",
              " 'bogura',\n",
              " 'rohanpur',\n",
              " 'bazaar',\n",
              " 'express',\n",
              " 'sudipto',\n",
              " 'process',\n",
              " 'network',\n",
              " 'issuse',\n",
              " 'bhuighar',\n",
              " 'khairun',\n",
              " 'chowmuhani',\n",
              " 'tran',\n",
              " 'dodu',\n",
              " 'mia',\n",
              " 'algi',\n",
              " 'haimchar',\n",
              " 'hat',\n",
              " 'ramchandrapur',\n",
              " 'savar',\n",
              " 'tajpur',\n",
              " 'janata',\n",
              " 'advance',\n",
              " 'xx',\n",
              " 'l',\n",
              " 'lm',\n",
              " 'nabinagar',\n",
              " 'depositcommission',\n",
              " 'aynatoly',\n",
              " 'takia',\n",
              " 'kachua',\n",
              " 'yesin',\n",
              " 'billha',\n",
              " 'abdulla',\n",
              " 'shafi',\n",
              " 'gharmora',\n",
              " 'exess',\n",
              " 'national',\n",
              " 'mahmudul',\n",
              " 'rollbu',\n",
              " 'rampur',\n",
              " 'agentcash',\n",
              " 'supotr',\n",
              " 'mobarak',\n",
              " 'tofayel',\n",
              " 'ahmed',\n",
              " 'depositself',\n",
              " 'depositsalary',\n",
              " 'hold',\n",
              " 'september',\n",
              " 'rasel',\n",
              " 'mdmahfuj',\n",
              " 'bikrul',\n",
              " 'kushtia',\n",
              " 'southeast',\n",
              " 'bishwanath',\n",
              " 'sadia',\n",
              " 'kalkini',\n",
              " 'brac',\n",
              " 'shambhugonj',\n",
              " 'singair',\n",
              " 'pdc',\n",
              " 'arif',\n",
              " 'musa',\n",
              " 'support',\n",
              " 'arshad',\n",
              " 'nazim',\n",
              " 'security',\n",
              " 'khatunganj',\n",
              " 'sarani',\n",
              " 'mojib',\n",
              " 'conar',\n",
              " 'fulbaria',\n",
              " 'khagrachari',\n",
              " 'hasan',\n",
              " 'shain',\n",
              " 'processing',\n",
              " 'depositanupom',\n",
              " 'das',\n",
              " 'yeasmin',\n",
              " 'suny',\n",
              " 'sir',\n",
              " 'gazi',\n",
              " 'nizam',\n",
              " 'atrai',\n",
              " 'josna',\n",
              " 'bagum',\n",
              " 'agrabad',\n",
              " 'remitance',\n",
              " 'brahmanbaria',\n",
              " 'mannan',\n",
              " 'transactio',\n",
              " 'tanvir',\n",
              " 'ahmmed',\n",
              " 'angargarabhalukamymensingh',\n",
              " 'depositcredit',\n",
              " 'bearer',\n",
              " 'type',\n",
              " 'shahinbankasiamonth',\n",
              " 'electric',\n",
              " 'unit',\n",
              " 'total',\n",
              " 'miah',\n",
              " 'prime',\n",
              " 'trust',\n",
              " 'quick',\n",
              " 'atik',\n",
              " 'dakmondop',\n",
              " 'tania',\n",
              " 'ab',\n",
              " 'repayment',\n",
              " 'officer',\n",
              " 'honorary',\n",
              " 'incommingscb',\n",
              " 'tt',\n",
              " 'depositcomission',\n",
              " 'mohi',\n",
              " 'future',\n",
              " 'use',\n",
              " 'morsalim',\n",
              " 'subrata',\n",
              " 'nrb',\n",
              " 'monir',\n",
              " 'tanzina',\n",
              " 'poultry',\n",
              " 'feed',\n",
              " 'manikdi',\n",
              " 'mohakhali',\n",
              " 'amountbto',\n",
              " 'mdzakir',\n",
              " 'ibn',\n",
              " 'hassan',\n",
              " 'niloy',\n",
              " 'rajshahi',\n",
              " 'bhadhonshel',\n",
              " 'obc',\n",
              " 'shahdat',\n",
              " 'octber',\n",
              " 'uncle',\n",
              " 'need',\n",
              " 'nasim',\n",
              " 'farhad',\n",
              " 'momin',\n",
              " 'talukdarhat',\n",
              " 'patherhat',\n",
              " 'anderkilla',\n",
              " 'brother',\n",
              " 'dubag',\n",
              " 'beanibazar',\n",
              " 'sylhet',\n",
              " 'owaris',\n",
              " 'mohammad',\n",
              " 'ullah',\n",
              " 'ur',\n",
              " 'gazipur',\n",
              " 'malkhanagar',\n",
              " 'golam',\n",
              " 'rahmon',\n",
              " 'classten',\n",
              " 'sectionten',\n",
              " 'chula',\n",
              " 'lalitnagar',\n",
              " 'outletgodagarira',\n",
              " 'beani',\n",
              " 'tula',\n",
              " 'cilo',\n",
              " 'r',\n",
              " 'fazlul',\n",
              " 'karim',\n",
              " 'sifat',\n",
              " 'sarker',\n",
              " 'alamin',\n",
              " 'lohagara',\n",
              " 'dinajpur',\n",
              " 'khan',\n",
              " 'bhairab',\n",
              " 'abba',\n",
              " 'zakigonj',\n",
              " 'porgona',\n",
              " 'client',\n",
              " 'eastern',\n",
              " 'jiku',\n",
              " 'mcb',\n",
              " 'sojid',\n",
              " 'sirajul',\n",
              " 'mowla',\n",
              " 'akbarahat',\n",
              " 'sandwip',\n",
              " 'ctg',\n",
              " 'chawk',\n",
              " 'mogultuly',\n",
              " 'robiul',\n",
              " 'masud',\n",
              " 'adampur',\n",
              " 'bankra',\n",
              " 'ff',\n",
              " 'bhaban',\n",
              " 'jatrabari',\n",
              " 'bahir',\n",
              " 'mollikpur',\n",
              " 'purush',\n",
              " 'polly',\n",
              " 'sharing',\n",
              " 'mosharaff',\n",
              " 'period',\n",
              " 'sohag',\n",
              " 'emergency',\n",
              " 'lotfur',\n",
              " 'gouripur',\n",
              " 'sohel',\n",
              " 'moulvibazar',\n",
              " 'application',\n",
              " 'aminul',\n",
              " 'uzzal',\n",
              " 'uthura',\n",
              " 'faridpur']"
            ]
          },
          "metadata": {},
          "execution_count": 107
        }
      ]
    },
    {
      "cell_type": "code",
      "source": [
        "#feature extraction\n",
        "\n",
        "import gensim\n",
        "\n",
        "model = gensim.models.Word2Vec(sentences = lemmatize_list, min_count = 1)\n"
      ],
      "metadata": {
        "id": "VvpYPe-9u1qj"
      },
      "execution_count": null,
      "outputs": []
    },
    {
      "cell_type": "code",
      "source": [
        "print(type(model.wv['micro']))"
      ],
      "metadata": {
        "id": "MIJlut0F0wFb",
        "colab": {
          "base_uri": "https://localhost:8080/"
        },
        "outputId": "bafe867d-c3f0-4191-8dbe-299acbb8a3bb"
      },
      "execution_count": null,
      "outputs": [
        {
          "output_type": "stream",
          "name": "stdout",
          "text": [
            "<class 'numpy.ndarray'>\n"
          ]
        }
      ]
    },
    {
      "cell_type": "code",
      "source": [
        "sentence_vec = []\n",
        "for sent in lemmatize_list:\n",
        "  vect = np.zeros(shape = model.wv['withdraw'].shape)\n",
        "  for word in sent:\n",
        "    vect += model.wv[word]\n",
        "  sentence_vec.append((sent, vect/len(sent)))\n"
      ],
      "metadata": {
        "id": "SIDXvAHp1D3b",
        "colab": {
          "base_uri": "https://localhost:8080/"
        },
        "outputId": "8241323c-d7cd-465f-9f0e-bdffc267ac53"
      },
      "execution_count": null,
      "outputs": [
        {
          "output_type": "stream",
          "name": "stdout",
          "text": [
            "<class 'tuple'>\n"
          ]
        }
      ]
    },
    {
      "cell_type": "code",
      "source": [
        "from sklearn.cluster import MiniBatchKMeans\n",
        "\n",
        "\n",
        "def elbow_method(vector, start, end, plot = False) :\n",
        "  tot_dist = []\n",
        "  for i in range(start, end+1):\n",
        "    kmeans = MiniBatchKMeans(n_clusters=i, init='k-means++', n_init='auto')\n",
        "    kmeans.fit_predict(vector)\n",
        "    tot_dist.append(kmeans.inertia_)\n",
        "  \n",
        "  if plot is True:\n",
        "    cls_count = np.arange(start = start, stop = end+1, step =1)\n",
        "    fig, ax = plt.subplots()\n",
        "    ax.plot(cls_count, tot_dist, marker ='x')\n",
        "    plt.show()\n",
        "\n",
        "  return tot_dist \n",
        "    \n"
      ],
      "metadata": {
        "id": "4Akzs9EjHjji"
      },
      "execution_count": null,
      "outputs": []
    },
    {
      "cell_type": "code",
      "source": [
        "#clustering\n",
        "vector = [x[1] for x in sentence_vec]\n",
        "dist = elbow_method(vector=vector, start=1, end = 15, plot = True)"
      ],
      "metadata": {
        "colab": {
          "base_uri": "https://localhost:8080/",
          "height": 447
        },
        "id": "lAiciUcvuqIC",
        "outputId": "6c58b621-bfb6-4f19-c5b9-e6f137a51e3a"
      },
      "execution_count": null,
      "outputs": [
        {
          "output_type": "stream",
          "name": "stdout",
          "text": [
            "<class 'numpy.ndarray'>\n"
          ]
        },
        {
          "output_type": "display_data",
          "data": {
            "text/plain": [
              "<Figure size 640x480 with 1 Axes>"
            ],
            "image/png": "[encoded data removed]"
          },
          "metadata": {}
        }
      ]
    },
    {
      "cell_type": "markdown",
      "source": [
        "From the Upper graph we can determine optimal nummber of cluster."
      ],
      "metadata": {
        "id": "jPIAK6sXQ4mh"
      }
    },
    {
      "cell_type": "code",
      "source": [
        "n_clusters = 13\n",
        "kmeans = MiniBatchKMeans(n_clusters=n_clusters, init='k-means++', n_init='auto')\n",
        "labels = kmeans.fit_predict(vector)"
      ],
      "metadata": {
        "id": "jtXO99FBScVL"
      },
      "execution_count": null,
      "outputs": []
    },
    {
      "cell_type": "code",
      "source": [
        "clusterd_data = {\n",
        "    'lemmatize_list':lemmatize_list,\n",
        "    'sentence_vec': vector,\n",
        "    'labels' : labels,\n",
        "}\n",
        "clusterd_data = pd.DataFrame.from_dict(clusterd_data)\n",
        "print(clusterd_data.head())"
      ],
      "metadata": {
        "id": "F5GWllIZay1f",
        "colab": {
          "base_uri": "https://localhost:8080/"
        },
        "outputId": "2206fb89-5a96-4c4a-bbe7-b8a195554e40"
      },
      "execution_count": null,
      "outputs": [
        {
          "output_type": "stream",
          "name": "stdout",
          "text": [
            "                                lemmatize_list  \\\n",
            "0                             [cash, withdraw]   \n",
            "1                           [cash, withdrawal]   \n",
            "2     [cash, withdraw, micro, merchant, point]   \n",
            "3  [credit, merchant, cash, withdraw, service]   \n",
            "4                              [cash, deposit]   \n",
            "\n",
            "                                        sentence_vec  labels  \n",
            "0  [0.0016875091241672635, 0.004030360898468643, ...       3  \n",
            "1  [0.002863473375327885, 0.005731426470447332, 0...       3  \n",
            "2  [-0.0001764976419508457, 0.0022925512166693807...       3  \n",
            "3  [0.00017055096104741098, 0.002668382064439356,...       3  \n",
            "4  [-0.00560748262796551, 0.0023596861283294857, ...      11  \n"
          ]
        }
      ]
    },
    {
      "cell_type": "code",
      "source": [
        "from sklearn.decomposition import PCA\n",
        "\n",
        "pca = PCA(n_components=2)\n",
        "\n",
        "reduced_vec = pca.fit_transform(sentence_vec)\n",
        "\n",
        "fig, ax = plt.subplots()\n",
        "\n",
        "ax.scatter(reduced_vec[:,0], reduced_vec[:,1], c=labels)\n",
        "plt.show()\n",
        "\n"
      ],
      "metadata": {
        "colab": {
          "base_uri": "https://localhost:8080/",
          "height": 430
        },
        "id": "Iyrs3Nqfl5J2",
        "outputId": "a74b0da3-d9fa-46c4-a31f-4307e5c39e7f"
      },
      "execution_count": null,
      "outputs": [
        {
          "output_type": "display_data",
          "data": {
            "text/plain": [
              "<Figure size 640x480 with 1 Axes>"
            ],
            "image/png": "[encoded data removed]"
          },
          "metadata": {}
        }
      ]
    },
    {
      "cell_type": "code",
      "source": [
        "cluster_dict = {}\n",
        "for label in labels:\n",
        "  rows = clusterd_data[clusterd_data['labels'] == label]\n",
        "  sents = rows['lemmatize_list']\n",
        "  cluster_dict[label] = word_freq_counter(sents)\n"
      ],
      "metadata": {
        "colab": {
          "base_uri": "https://localhost:8080/"
        },
        "id": "6sZMInFK-l0v",
        "outputId": "047929a2-4f77-4b54-a15d-dce47796c029"
      },
      "execution_count": null,
      "outputs": [
        {
          "output_type": "stream",
          "name": "stdout",
          "text": [
            "{'bazar': 7, 'aynatoly': 1, 'gharmora': 1, 'fulbaria': 1, 'chula': 1, 'lalitnagar': 1, 'outletgodagarira': 1, 'withdraw': 1, 'masud': 1, 'adampur': 1, 'bankra': 1}\n"
          ]
        }
      ]
    },
    {
      "cell_type": "code",
      "source": [
        "print(type(cluster_dict))\n",
        "for key in cluster_dict:\n",
        "  print('cluster ',key)\n",
        "  print(value.keys)"
      ],
      "metadata": {
        "colab": {
          "base_uri": "https://localhost:8080/"
        },
        "id": "4R7WXh2ACKkh",
        "outputId": "95e7936a-15a9-4d48-f006-133855154352"
      },
      "execution_count": null,
      "outputs": [
        {
          "output_type": "stream",
          "name": "stdout",
          "text": [
            "<class 'dict'>\n",
            "cluster  3\n",
            "cluster  11\n",
            "cluster  8\n",
            "cluster  5\n",
            "cluster  10\n",
            "cluster  2\n",
            "cluster  1\n",
            "cluster  7\n",
            "cluster  9\n",
            "cluster  12\n",
            "cluster  4\n",
            "cluster  6\n",
            "cluster  0\n"
          ]
        }
      ]
    }
  ]
}